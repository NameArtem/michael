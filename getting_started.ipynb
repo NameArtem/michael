{
 "cells": [
  {
   "cell_type": "markdown",
   "metadata": {},
   "source": [
    "# Getting Started"
   ]
  },
  {
   "cell_type": "markdown",
   "metadata": {},
   "source": [
    "This notebook demonstrates how to get started with frequentist and Bayesian A/B testing as well as multi-armed bandits."
   ]
  },
  {
   "cell_type": "code",
   "execution_count": 19,
   "metadata": {},
   "outputs": [],
   "source": [
    "import numpy as np\n",
    "import pandas as pd\n",
    "from plotnine import *\n",
    "\n",
    "import warnings\n",
    "warnings.filterwarnings('ignore')"
   ]
  },
  {
   "cell_type": "markdown",
   "metadata": {},
   "source": [
    "## Frequentist Approach"
   ]
  },
  {
   "cell_type": "markdown",
   "metadata": {},
   "source": [
    "### Proportions"
   ]
  },
  {
   "cell_type": "markdown",
   "metadata": {},
   "source": [
    "This example shows how to perform frequentist A/B test based on simulated data with Group `A` (Control) at 10% conversion rate and Group `B` (Test) at 12% conversion rate. "
   ]
  },
  {
   "cell_type": "code",
   "execution_count": 2,
   "metadata": {},
   "outputs": [],
   "source": [
    "from utils import gen_proprotions_campaign\n",
    "from frequentist.proportions import proportion_samples, proportion_test, proportion_ci, proportion_plot"
   ]
  },
  {
   "cell_type": "code",
   "execution_count": 3,
   "metadata": {},
   "outputs": [
    {
     "data": {
      "text/html": [
       "<div>\n",
       "<style scoped>\n",
       "    .dataframe tbody tr th:only-of-type {\n",
       "        vertical-align: middle;\n",
       "    }\n",
       "\n",
       "    .dataframe tbody tr th {\n",
       "        vertical-align: top;\n",
       "    }\n",
       "\n",
       "    .dataframe thead th {\n",
       "        text-align: right;\n",
       "    }\n",
       "</style>\n",
       "<table border=\"1\" class=\"dataframe\">\n",
       "  <thead>\n",
       "    <tr style=\"text-align: right;\">\n",
       "      <th></th>\n",
       "      <th>timesteps</th>\n",
       "      <th>impression_a</th>\n",
       "      <th>impression_b</th>\n",
       "      <th>conv_a</th>\n",
       "      <th>conv_b</th>\n",
       "      <th>cumu_impression_a</th>\n",
       "      <th>cumu_impression_b</th>\n",
       "      <th>cumu_conv_a</th>\n",
       "      <th>cumu_conv_b</th>\n",
       "      <th>cumu_rate_a</th>\n",
       "      <th>cumu_rate_b</th>\n",
       "    </tr>\n",
       "  </thead>\n",
       "  <tbody>\n",
       "    <tr>\n",
       "      <th>55</th>\n",
       "      <td>55</td>\n",
       "      <td>1101</td>\n",
       "      <td>1175</td>\n",
       "      <td>109</td>\n",
       "      <td>143</td>\n",
       "      <td>55364</td>\n",
       "      <td>55210</td>\n",
       "      <td>5478</td>\n",
       "      <td>6545</td>\n",
       "      <td>0.098945</td>\n",
       "      <td>0.118547</td>\n",
       "    </tr>\n",
       "    <tr>\n",
       "      <th>56</th>\n",
       "      <td>56</td>\n",
       "      <td>789</td>\n",
       "      <td>867</td>\n",
       "      <td>76</td>\n",
       "      <td>108</td>\n",
       "      <td>56153</td>\n",
       "      <td>56077</td>\n",
       "      <td>5554</td>\n",
       "      <td>6653</td>\n",
       "      <td>0.098908</td>\n",
       "      <td>0.118640</td>\n",
       "    </tr>\n",
       "    <tr>\n",
       "      <th>57</th>\n",
       "      <td>57</td>\n",
       "      <td>929</td>\n",
       "      <td>925</td>\n",
       "      <td>92</td>\n",
       "      <td>114</td>\n",
       "      <td>57082</td>\n",
       "      <td>57002</td>\n",
       "      <td>5646</td>\n",
       "      <td>6767</td>\n",
       "      <td>0.098910</td>\n",
       "      <td>0.118715</td>\n",
       "    </tr>\n",
       "    <tr>\n",
       "      <th>58</th>\n",
       "      <td>58</td>\n",
       "      <td>973</td>\n",
       "      <td>969</td>\n",
       "      <td>96</td>\n",
       "      <td>113</td>\n",
       "      <td>58055</td>\n",
       "      <td>57971</td>\n",
       "      <td>5742</td>\n",
       "      <td>6880</td>\n",
       "      <td>0.098906</td>\n",
       "      <td>0.118680</td>\n",
       "    </tr>\n",
       "    <tr>\n",
       "      <th>59</th>\n",
       "      <td>59</td>\n",
       "      <td>1449</td>\n",
       "      <td>973</td>\n",
       "      <td>148</td>\n",
       "      <td>113</td>\n",
       "      <td>59504</td>\n",
       "      <td>58944</td>\n",
       "      <td>5890</td>\n",
       "      <td>6993</td>\n",
       "      <td>0.098985</td>\n",
       "      <td>0.118638</td>\n",
       "    </tr>\n",
       "  </tbody>\n",
       "</table>\n",
       "</div>"
      ],
      "text/plain": [
       "    timesteps  impression_a  impression_b  conv_a  conv_b  cumu_impression_a  \\\n",
       "55         55          1101          1175     109     143              55364   \n",
       "56         56           789           867      76     108              56153   \n",
       "57         57           929           925      92     114              57082   \n",
       "58         58           973           969      96     113              58055   \n",
       "59         59          1449           973     148     113              59504   \n",
       "\n",
       "    cumu_impression_b  cumu_conv_a  cumu_conv_b  cumu_rate_a  cumu_rate_b  \n",
       "55              55210         5478         6545     0.098945     0.118547  \n",
       "56              56077         5554         6653     0.098908     0.118640  \n",
       "57              57002         5646         6767     0.098910     0.118715  \n",
       "58              57971         5742         6880     0.098906     0.118680  \n",
       "59              58944         5890         6993     0.098985     0.118638  "
      ]
     },
     "execution_count": 3,
     "metadata": {},
     "output_type": "execute_result"
    }
   ],
   "source": [
    "result = gen_proprotions_campaign(p1 = 0.10,\n",
    "                          p2 = 0.12,\n",
    "                          timesteps = 60,\n",
    "                          lmh = [500,1000,1500],\n",
    "                          scaler=300,\n",
    "                          seed = 1412) #god-mode \n",
    "result.tail()"
   ]
  },
  {
   "cell_type": "markdown",
   "metadata": {},
   "source": [
    "First, we need to determine our minimum detectable effect (what is the minimum difference you would consider `B` as the better variation) to get the required sample size with `proportion_samples` and avoid the problem of if-you-have-enough-samples-everything-is-significant. We can see that we could have stopped our fake experiment much sooner than we did!"
   ]
  },
  {
   "cell_type": "code",
   "execution_count": 4,
   "metadata": {},
   "outputs": [
    {
     "name": "stdout",
     "output_type": "stream",
     "text": [
      "We need at least 4869.978217371743 impressions in each group to detect the minimum difference of 1% in conversion rate.\n"
     ]
    }
   ],
   "source": [
    "mde = 0.01\n",
    "required_samples = proportion_samples(mde = mde, #we will say that B is better if it is at least 1% better than A\n",
    "                                      p  = 0.1, #expected probability under null hypothesis i.e. everything is same as A at 10%,\n",
    "                                      alpha = 0.05 #acceptable alpha that we will reject the null hypothesis\n",
    "                                     )\n",
    "print(f'We need at least {required_samples} impressions in each group to detect the minimum difference of {int(100*mde)}% in conversion rate.')"
   ]
  },
  {
   "cell_type": "code",
   "execution_count": 5,
   "metadata": {},
   "outputs": [
    {
     "data": {
      "text/html": [
       "<div>\n",
       "<style scoped>\n",
       "    .dataframe tbody tr th:only-of-type {\n",
       "        vertical-align: middle;\n",
       "    }\n",
       "\n",
       "    .dataframe tbody tr th {\n",
       "        vertical-align: top;\n",
       "    }\n",
       "\n",
       "    .dataframe thead th {\n",
       "        text-align: right;\n",
       "    }\n",
       "</style>\n",
       "<table border=\"1\" class=\"dataframe\">\n",
       "  <thead>\n",
       "    <tr style=\"text-align: right;\">\n",
       "      <th></th>\n",
       "      <th>timesteps</th>\n",
       "      <th>impression_a</th>\n",
       "      <th>impression_b</th>\n",
       "      <th>conv_a</th>\n",
       "      <th>conv_b</th>\n",
       "      <th>cumu_impression_a</th>\n",
       "      <th>cumu_impression_b</th>\n",
       "      <th>cumu_conv_a</th>\n",
       "      <th>cumu_conv_b</th>\n",
       "      <th>cumu_rate_a</th>\n",
       "      <th>cumu_rate_b</th>\n",
       "    </tr>\n",
       "  </thead>\n",
       "  <tbody>\n",
       "    <tr>\n",
       "      <th>0</th>\n",
       "      <td>0</td>\n",
       "      <td>1254</td>\n",
       "      <td>1007</td>\n",
       "      <td>126</td>\n",
       "      <td>120</td>\n",
       "      <td>1254</td>\n",
       "      <td>1007</td>\n",
       "      <td>126</td>\n",
       "      <td>120</td>\n",
       "      <td>0.100478</td>\n",
       "      <td>0.119166</td>\n",
       "    </tr>\n",
       "    <tr>\n",
       "      <th>1</th>\n",
       "      <td>1</td>\n",
       "      <td>1147</td>\n",
       "      <td>549</td>\n",
       "      <td>116</td>\n",
       "      <td>68</td>\n",
       "      <td>2401</td>\n",
       "      <td>1556</td>\n",
       "      <td>242</td>\n",
       "      <td>188</td>\n",
       "      <td>0.100791</td>\n",
       "      <td>0.120823</td>\n",
       "    </tr>\n",
       "    <tr>\n",
       "      <th>2</th>\n",
       "      <td>2</td>\n",
       "      <td>678</td>\n",
       "      <td>955</td>\n",
       "      <td>67</td>\n",
       "      <td>112</td>\n",
       "      <td>3079</td>\n",
       "      <td>2511</td>\n",
       "      <td>309</td>\n",
       "      <td>300</td>\n",
       "      <td>0.100357</td>\n",
       "      <td>0.119474</td>\n",
       "    </tr>\n",
       "    <tr>\n",
       "      <th>3</th>\n",
       "      <td>3</td>\n",
       "      <td>968</td>\n",
       "      <td>764</td>\n",
       "      <td>94</td>\n",
       "      <td>93</td>\n",
       "      <td>4047</td>\n",
       "      <td>3275</td>\n",
       "      <td>403</td>\n",
       "      <td>393</td>\n",
       "      <td>0.099580</td>\n",
       "      <td>0.120000</td>\n",
       "    </tr>\n",
       "  </tbody>\n",
       "</table>\n",
       "</div>"
      ],
      "text/plain": [
       "   timesteps  impression_a  impression_b  conv_a  conv_b  cumu_impression_a  \\\n",
       "0          0          1254          1007     126     120               1254   \n",
       "1          1          1147           549     116      68               2401   \n",
       "2          2           678           955      67     112               3079   \n",
       "3          3           968           764      94      93               4047   \n",
       "\n",
       "   cumu_impression_b  cumu_conv_a  cumu_conv_b  cumu_rate_a  cumu_rate_b  \n",
       "0               1007          126          120     0.100478     0.119166  \n",
       "1               1556          242          188     0.100791     0.120823  \n",
       "2               2511          309          300     0.100357     0.119474  \n",
       "3               3275          403          393     0.099580     0.120000  "
      ]
     },
     "execution_count": 5,
     "metadata": {},
     "output_type": "execute_result"
    }
   ],
   "source": [
    "result_trunc = result[result.cumu_impression_a<required_samples]\n",
    "result_trunc.tail() #we see that we should have stopped at timestep much earlier than we did"
   ]
  },
  {
   "cell_type": "markdown",
   "metadata": {},
   "source": [
    "We can then run the `proportion_plot` function to get test results with plot."
   ]
  },
  {
   "cell_type": "code",
   "execution_count": 6,
   "metadata": {},
   "outputs": [
    {
     "name": "stdout",
     "output_type": "stream",
     "text": [
      "Z-value: -2.7910277348496275; p-value: 0.0026270484959149965\n"
     ]
    },
    {
     "name": "stderr",
     "output_type": "stream",
     "text": [
      "/Users/admin/.virtualenvs/sandbox/lib/python3.7/site-packages/plotnine/utils.py:54: MatplotlibDeprecationWarning: \n",
      "The iterable function was deprecated in Matplotlib 3.1 and will be removed in 3.3. Use np.iterable instead.\n",
      "  if cbook.iterable(val) and not is_string(val):\n",
      "/Users/admin/.virtualenvs/sandbox/lib/python3.7/site-packages/plotnine/utils.py:54: MatplotlibDeprecationWarning: \n",
      "The iterable function was deprecated in Matplotlib 3.1 and will be removed in 3.3. Use np.iterable instead.\n",
      "  if cbook.iterable(val) and not is_string(val):\n",
      "/Users/admin/.virtualenvs/sandbox/lib/python3.7/site-packages/plotnine/scales/scale.py:93: MatplotlibDeprecationWarning: \n",
      "The iterable function was deprecated in Matplotlib 3.1 and will be removed in 3.3. Use np.iterable instead.\n",
      "  if cbook.iterable(self.breaks) and cbook.iterable(self.labels):\n",
      "/Users/admin/.virtualenvs/sandbox/lib/python3.7/site-packages/plotnine/scales/scale.py:93: MatplotlibDeprecationWarning: \n",
      "The iterable function was deprecated in Matplotlib 3.1 and will be removed in 3.3. Use np.iterable instead.\n",
      "  if cbook.iterable(self.breaks) and cbook.iterable(self.labels):\n",
      "/Users/admin/.virtualenvs/sandbox/lib/python3.7/site-packages/plotnine/scales/scale.py:93: MatplotlibDeprecationWarning: \n",
      "The iterable function was deprecated in Matplotlib 3.1 and will be removed in 3.3. Use np.iterable instead.\n",
      "  if cbook.iterable(self.breaks) and cbook.iterable(self.labels):\n",
      "/Users/admin/.virtualenvs/sandbox/lib/python3.7/site-packages/plotnine/utils.py:553: MatplotlibDeprecationWarning: \n",
      "The iterable function was deprecated in Matplotlib 3.1 and will be removed in 3.3. Use np.iterable instead.\n",
      "  return cbook.iterable(var) and not is_string(var)\n",
      "/Users/admin/.virtualenvs/sandbox/lib/python3.7/site-packages/plotnine/utils.py:553: MatplotlibDeprecationWarning: \n",
      "The iterable function was deprecated in Matplotlib 3.1 and will be removed in 3.3. Use np.iterable instead.\n",
      "  return cbook.iterable(var) and not is_string(var)\n",
      "/Users/admin/.virtualenvs/sandbox/lib/python3.7/site-packages/plotnine/utils.py:553: MatplotlibDeprecationWarning: \n",
      "The iterable function was deprecated in Matplotlib 3.1 and will be removed in 3.3. Use np.iterable instead.\n",
      "  return cbook.iterable(var) and not is_string(var)\n",
      "/Users/admin/.virtualenvs/sandbox/lib/python3.7/site-packages/plotnine/utils.py:553: MatplotlibDeprecationWarning: \n",
      "The iterable function was deprecated in Matplotlib 3.1 and will be removed in 3.3. Use np.iterable instead.\n",
      "  return cbook.iterable(var) and not is_string(var)\n",
      "/Users/admin/.virtualenvs/sandbox/lib/python3.7/site-packages/plotnine/utils.py:553: MatplotlibDeprecationWarning: \n",
      "The iterable function was deprecated in Matplotlib 3.1 and will be removed in 3.3. Use np.iterable instead.\n",
      "  return cbook.iterable(var) and not is_string(var)\n",
      "/Users/admin/.virtualenvs/sandbox/lib/python3.7/site-packages/plotnine/utils.py:553: MatplotlibDeprecationWarning: \n",
      "The iterable function was deprecated in Matplotlib 3.1 and will be removed in 3.3. Use np.iterable instead.\n",
      "  return cbook.iterable(var) and not is_string(var)\n",
      "/Users/admin/.virtualenvs/sandbox/lib/python3.7/site-packages/plotnine/utils.py:553: MatplotlibDeprecationWarning: \n",
      "The iterable function was deprecated in Matplotlib 3.1 and will be removed in 3.3. Use np.iterable instead.\n",
      "  return cbook.iterable(var) and not is_string(var)\n",
      "/Users/admin/.virtualenvs/sandbox/lib/python3.7/site-packages/plotnine/utils.py:553: MatplotlibDeprecationWarning: \n",
      "The iterable function was deprecated in Matplotlib 3.1 and will be removed in 3.3. Use np.iterable instead.\n",
      "  return cbook.iterable(var) and not is_string(var)\n",
      "/Users/admin/.virtualenvs/sandbox/lib/python3.7/site-packages/plotnine/utils.py:553: MatplotlibDeprecationWarning: \n",
      "The iterable function was deprecated in Matplotlib 3.1 and will be removed in 3.3. Use np.iterable instead.\n",
      "  return cbook.iterable(var) and not is_string(var)\n",
      "/Users/admin/.virtualenvs/sandbox/lib/python3.7/site-packages/plotnine/utils.py:553: MatplotlibDeprecationWarning: \n",
      "The iterable function was deprecated in Matplotlib 3.1 and will be removed in 3.3. Use np.iterable instead.\n",
      "  return cbook.iterable(var) and not is_string(var)\n",
      "/Users/admin/.virtualenvs/sandbox/lib/python3.7/site-packages/plotnine/utils.py:553: MatplotlibDeprecationWarning: \n",
      "The iterable function was deprecated in Matplotlib 3.1 and will be removed in 3.3. Use np.iterable instead.\n",
      "  return cbook.iterable(var) and not is_string(var)\n",
      "/Users/admin/.virtualenvs/sandbox/lib/python3.7/site-packages/plotnine/utils.py:553: MatplotlibDeprecationWarning: \n",
      "The iterable function was deprecated in Matplotlib 3.1 and will be removed in 3.3. Use np.iterable instead.\n",
      "  return cbook.iterable(var) and not is_string(var)\n"
     ]
    },
    {
     "data": {
      "image/png": "[encoded data removed]",
      "text/plain": [
       "<Figure size 640x480 with 1 Axes>"
      ]
     },
     "metadata": {
      "needs_background": "light"
     },
     "output_type": "display_data"
    }
   ],
   "source": [
    "c1,c2 = result_trunc.loc[result_trunc.shape[0]-1,'cumu_conv_a'],result_trunc.loc[result_trunc.shape[0]-1,'cumu_conv_b']\n",
    "n1,n2 = result_trunc.loc[result_trunc.shape[0]-1,'cumu_impression_a'],result_trunc.loc[result_trunc.shape[0]-1,'cumu_impression_b']\n",
    "\n",
    "proportion_plot(c1,c2,n1,n2,alpha=0.05,mode='one_sided')"
   ]
  },
  {
   "cell_type": "markdown",
   "metadata": {},
   "source": [
    "We can also run the test and get confidence intervals separating using `proportion_test` and `proportion_ci`."
   ]
  },
  {
   "cell_type": "code",
   "execution_count": 7,
   "metadata": {},
   "outputs": [
    {
     "name": "stdout",
     "output_type": "stream",
     "text": [
      "Z-score: -2.7910277348496275 at p-value 0.0026270484959149965\n"
     ]
    }
   ],
   "source": [
    "z,p_value = proportion_test(c1,c2,n1,n2,mode='one_sided')\n",
    "print(f'Z-score: {z} at p-value {p_value}')"
   ]
  },
  {
   "cell_type": "code",
   "execution_count": 8,
   "metadata": {},
   "outputs": [
    {
     "data": {
      "text/plain": [
       "(0.09035443408810212, 0.10880543742165819)"
      ]
     },
     "execution_count": 8,
     "metadata": {},
     "output_type": "execute_result"
    }
   ],
   "source": [
    "l1,u1 = proportion_ci(c1,n1,alpha=0.05)\n",
    "l1,u1"
   ]
  },
  {
   "cell_type": "code",
   "execution_count": 9,
   "metadata": {},
   "outputs": [
    {
     "data": {
      "text/plain": [
       "(0.10887053218331917, 0.13112946781668083)"
      ]
     },
     "execution_count": 9,
     "metadata": {},
     "output_type": "execute_result"
    }
   ],
   "source": [
    "l2,u2 = proportion_ci(c2,n2,alpha=0.05)\n",
    "l2,u2"
   ]
  },
  {
   "cell_type": "markdown",
   "metadata": {},
   "source": [
    "## Bayesian Approach"
   ]
  },
  {
   "cell_type": "markdown",
   "metadata": {},
   "source": [
    "### Proportions"
   ]
  },
  {
   "cell_type": "markdown",
   "metadata": {},
   "source": [
    "This example shows how to perform Bayesian A/B test based on simulated data with Group `A` (Control) at 10% conversion rate and Group `B` (Test) at 12% conversion rate. "
   ]
  },
  {
   "cell_type": "code",
   "execution_count": 10,
   "metadata": {},
   "outputs": [],
   "source": [
    "from utils import gen_proprotions_campaign\n",
    "from bayesian.proportions import sample_proportion, proportion_test_b, proportion_plot_b, proportion_ratio, proportion_diff, value_remaining"
   ]
  },
  {
   "cell_type": "code",
   "execution_count": 11,
   "metadata": {},
   "outputs": [
    {
     "data": {
      "text/html": [
       "<div>\n",
       "<style scoped>\n",
       "    .dataframe tbody tr th:only-of-type {\n",
       "        vertical-align: middle;\n",
       "    }\n",
       "\n",
       "    .dataframe tbody tr th {\n",
       "        vertical-align: top;\n",
       "    }\n",
       "\n",
       "    .dataframe thead th {\n",
       "        text-align: right;\n",
       "    }\n",
       "</style>\n",
       "<table border=\"1\" class=\"dataframe\">\n",
       "  <thead>\n",
       "    <tr style=\"text-align: right;\">\n",
       "      <th></th>\n",
       "      <th>timesteps</th>\n",
       "      <th>impression_a</th>\n",
       "      <th>impression_b</th>\n",
       "      <th>conv_a</th>\n",
       "      <th>conv_b</th>\n",
       "      <th>cumu_impression_a</th>\n",
       "      <th>cumu_impression_b</th>\n",
       "      <th>cumu_conv_a</th>\n",
       "      <th>cumu_conv_b</th>\n",
       "      <th>cumu_rate_a</th>\n",
       "      <th>cumu_rate_b</th>\n",
       "    </tr>\n",
       "  </thead>\n",
       "  <tbody>\n",
       "    <tr>\n",
       "      <th>19</th>\n",
       "      <td>19</td>\n",
       "      <td>80</td>\n",
       "      <td>129</td>\n",
       "      <td>8</td>\n",
       "      <td>16</td>\n",
       "      <td>2044</td>\n",
       "      <td>1866</td>\n",
       "      <td>192</td>\n",
       "      <td>213</td>\n",
       "      <td>0.093933</td>\n",
       "      <td>0.114148</td>\n",
       "    </tr>\n",
       "    <tr>\n",
       "      <th>20</th>\n",
       "      <td>20</td>\n",
       "      <td>100</td>\n",
       "      <td>101</td>\n",
       "      <td>9</td>\n",
       "      <td>12</td>\n",
       "      <td>2144</td>\n",
       "      <td>1967</td>\n",
       "      <td>201</td>\n",
       "      <td>225</td>\n",
       "      <td>0.093750</td>\n",
       "      <td>0.114387</td>\n",
       "    </tr>\n",
       "    <tr>\n",
       "      <th>21</th>\n",
       "      <td>21</td>\n",
       "      <td>135</td>\n",
       "      <td>77</td>\n",
       "      <td>13</td>\n",
       "      <td>8</td>\n",
       "      <td>2279</td>\n",
       "      <td>2044</td>\n",
       "      <td>214</td>\n",
       "      <td>233</td>\n",
       "      <td>0.093901</td>\n",
       "      <td>0.113992</td>\n",
       "    </tr>\n",
       "    <tr>\n",
       "      <th>22</th>\n",
       "      <td>22</td>\n",
       "      <td>112</td>\n",
       "      <td>93</td>\n",
       "      <td>11</td>\n",
       "      <td>11</td>\n",
       "      <td>2391</td>\n",
       "      <td>2137</td>\n",
       "      <td>225</td>\n",
       "      <td>244</td>\n",
       "      <td>0.094103</td>\n",
       "      <td>0.114179</td>\n",
       "    </tr>\n",
       "    <tr>\n",
       "      <th>23</th>\n",
       "      <td>23</td>\n",
       "      <td>97</td>\n",
       "      <td>72</td>\n",
       "      <td>9</td>\n",
       "      <td>8</td>\n",
       "      <td>2488</td>\n",
       "      <td>2209</td>\n",
       "      <td>234</td>\n",
       "      <td>252</td>\n",
       "      <td>0.094051</td>\n",
       "      <td>0.114079</td>\n",
       "    </tr>\n",
       "  </tbody>\n",
       "</table>\n",
       "</div>"
      ],
      "text/plain": [
       "    timesteps  impression_a  impression_b  conv_a  conv_b  cumu_impression_a  \\\n",
       "19         19            80           129       8      16               2044   \n",
       "20         20           100           101       9      12               2144   \n",
       "21         21           135            77      13       8               2279   \n",
       "22         22           112            93      11      11               2391   \n",
       "23         23            97            72       9       8               2488   \n",
       "\n",
       "    cumu_impression_b  cumu_conv_a  cumu_conv_b  cumu_rate_a  cumu_rate_b  \n",
       "19               1866          192          213     0.093933     0.114148  \n",
       "20               1967          201          225     0.093750     0.114387  \n",
       "21               2044          214          233     0.093901     0.113992  \n",
       "22               2137          225          244     0.094103     0.114179  \n",
       "23               2209          234          252     0.094051     0.114079  "
      ]
     },
     "execution_count": 11,
     "metadata": {},
     "output_type": "execute_result"
    }
   ],
   "source": [
    "result = gen_proprotions_campaign(p1 = 0.10,\n",
    "                          p2 = 0.12,\n",
    "                          timesteps = 24,\n",
    "                          lmh = [50,100,150],\n",
    "                          scaler=300,\n",
    "                          seed = 1412) #god-mode \n",
    "result.tail()"
   ]
  },
  {
   "cell_type": "markdown",
   "metadata": {},
   "source": [
    "The assumption we need to establish for Bayesian A/B testing is the priors; you can set a different prior for each group `A` and `B` or use the same one. The stopping criteria for Bayesian A/B testing depends on this prior and a concept called **value remaining**. Usually we stop the experiment once the value remaining falls below a certain threshold, say 0.01."
   ]
  },
  {
   "cell_type": "code",
   "execution_count": 12,
   "metadata": {},
   "outputs": [
    {
     "data": {
      "text/html": [
       "<div>\n",
       "<style scoped>\n",
       "    .dataframe tbody tr th:only-of-type {\n",
       "        vertical-align: middle;\n",
       "    }\n",
       "\n",
       "    .dataframe tbody tr th {\n",
       "        vertical-align: top;\n",
       "    }\n",
       "\n",
       "    .dataframe thead th {\n",
       "        text-align: right;\n",
       "    }\n",
       "</style>\n",
       "<table border=\"1\" class=\"dataframe\">\n",
       "  <thead>\n",
       "    <tr style=\"text-align: right;\">\n",
       "      <th></th>\n",
       "      <th>timesteps</th>\n",
       "      <th>impression_a</th>\n",
       "      <th>impression_b</th>\n",
       "      <th>conv_a</th>\n",
       "      <th>conv_b</th>\n",
       "      <th>cumu_impression_a</th>\n",
       "      <th>cumu_impression_b</th>\n",
       "      <th>cumu_conv_a</th>\n",
       "      <th>cumu_conv_b</th>\n",
       "      <th>cumu_rate_a</th>\n",
       "      <th>cumu_rate_b</th>\n",
       "      <th>value_remaining</th>\n",
       "    </tr>\n",
       "  </thead>\n",
       "  <tbody>\n",
       "    <tr>\n",
       "      <th>8</th>\n",
       "      <td>8</td>\n",
       "      <td>94</td>\n",
       "      <td>90</td>\n",
       "      <td>9</td>\n",
       "      <td>10</td>\n",
       "      <td>955</td>\n",
       "      <td>872</td>\n",
       "      <td>91</td>\n",
       "      <td>98</td>\n",
       "      <td>0.095288</td>\n",
       "      <td>0.112385</td>\n",
       "      <td>0.064879</td>\n",
       "    </tr>\n",
       "    <tr>\n",
       "      <th>9</th>\n",
       "      <td>9</td>\n",
       "      <td>102</td>\n",
       "      <td>94</td>\n",
       "      <td>9</td>\n",
       "      <td>10</td>\n",
       "      <td>1057</td>\n",
       "      <td>966</td>\n",
       "      <td>100</td>\n",
       "      <td>108</td>\n",
       "      <td>0.094607</td>\n",
       "      <td>0.111801</td>\n",
       "      <td>0.050812</td>\n",
       "    </tr>\n",
       "    <tr>\n",
       "      <th>10</th>\n",
       "      <td>10</td>\n",
       "      <td>86</td>\n",
       "      <td>133</td>\n",
       "      <td>8</td>\n",
       "      <td>16</td>\n",
       "      <td>1143</td>\n",
       "      <td>1099</td>\n",
       "      <td>108</td>\n",
       "      <td>124</td>\n",
       "      <td>0.094488</td>\n",
       "      <td>0.112830</td>\n",
       "      <td>0.026381</td>\n",
       "    </tr>\n",
       "    <tr>\n",
       "      <th>11</th>\n",
       "      <td>11</td>\n",
       "      <td>94</td>\n",
       "      <td>56</td>\n",
       "      <td>9</td>\n",
       "      <td>6</td>\n",
       "      <td>1237</td>\n",
       "      <td>1155</td>\n",
       "      <td>117</td>\n",
       "      <td>130</td>\n",
       "      <td>0.094584</td>\n",
       "      <td>0.112554</td>\n",
       "      <td>0.024347</td>\n",
       "    </tr>\n",
       "    <tr>\n",
       "      <th>12</th>\n",
       "      <td>12</td>\n",
       "      <td>86</td>\n",
       "      <td>72</td>\n",
       "      <td>8</td>\n",
       "      <td>8</td>\n",
       "      <td>1323</td>\n",
       "      <td>1227</td>\n",
       "      <td>125</td>\n",
       "      <td>138</td>\n",
       "      <td>0.094482</td>\n",
       "      <td>0.112469</td>\n",
       "      <td>0.020314</td>\n",
       "    </tr>\n",
       "  </tbody>\n",
       "</table>\n",
       "</div>"
      ],
      "text/plain": [
       "    timesteps  impression_a  impression_b  conv_a  conv_b  cumu_impression_a  \\\n",
       "8           8            94            90       9      10                955   \n",
       "9           9           102            94       9      10               1057   \n",
       "10         10            86           133       8      16               1143   \n",
       "11         11            94            56       9       6               1237   \n",
       "12         12            86            72       8       8               1323   \n",
       "\n",
       "    cumu_impression_b  cumu_conv_a  cumu_conv_b  cumu_rate_a  cumu_rate_b  \\\n",
       "8                 872           91           98     0.095288     0.112385   \n",
       "9                 966          100          108     0.094607     0.111801   \n",
       "10               1099          108          124     0.094488     0.112830   \n",
       "11               1155          117          130     0.094584     0.112554   \n",
       "12               1227          125          138     0.094482     0.112469   \n",
       "\n",
       "    value_remaining  \n",
       "8          0.064879  \n",
       "9          0.050812  \n",
       "10         0.026381  \n",
       "11         0.024347  \n",
       "12         0.020314  "
      ]
     },
     "execution_count": 12,
     "metadata": {},
     "output_type": "execute_result"
    }
   ],
   "source": [
    "a,b = 1,9\n",
    "sim_size = 100000\n",
    "q = 95\n",
    "threshold = 0.01\n",
    "\n",
    "result['value_remaining'] = result.apply(lambda row: value_remaining([row['cumu_conv_a'],row['cumu_conv_b']],\n",
    "                                                                     [row['cumu_impression_a'],row['cumu_impression_b']],\n",
    "                                                                     [a,a],[b,b],q,sim_size),1)\n",
    "result_trunc = result[result.value_remaining>threshold]\n",
    "result_trunc.tail()"
   ]
  },
  {
   "cell_type": "markdown",
   "metadata": {},
   "source": [
    "Bayesian A/B test can directly tell you both **the probability that A will outperform B** and the **magnitude of ratio or difference between the group**. Use `proportion_plot_b`."
   ]
  },
  {
   "cell_type": "code",
   "execution_count": 13,
   "metadata": {},
   "outputs": [
    {
     "name": "stdout",
     "output_type": "stream",
     "text": [
      "Probability that A is better than B: 0.06768\n",
      "Average ratio of A and B: 0.8462521754997488\n",
      "Credible interval: [0.66807453 1.05517617]\n"
     ]
    },
    {
     "name": "stderr",
     "output_type": "stream",
     "text": [
      "/Users/admin/.virtualenvs/sandbox/lib/python3.7/site-packages/plotnine/utils.py:54: MatplotlibDeprecationWarning: \n",
      "The iterable function was deprecated in Matplotlib 3.1 and will be removed in 3.3. Use np.iterable instead.\n",
      "  if cbook.iterable(val) and not is_string(val):\n",
      "/Users/admin/.virtualenvs/sandbox/lib/python3.7/site-packages/plotnine/utils.py:54: MatplotlibDeprecationWarning: \n",
      "The iterable function was deprecated in Matplotlib 3.1 and will be removed in 3.3. Use np.iterable instead.\n",
      "  if cbook.iterable(val) and not is_string(val):\n",
      "/Users/admin/.virtualenvs/sandbox/lib/python3.7/site-packages/plotnine/scales/scale.py:93: MatplotlibDeprecationWarning: \n",
      "The iterable function was deprecated in Matplotlib 3.1 and will be removed in 3.3. Use np.iterable instead.\n",
      "  if cbook.iterable(self.breaks) and cbook.iterable(self.labels):\n",
      "/Users/admin/.virtualenvs/sandbox/lib/python3.7/site-packages/plotnine/scales/scale.py:93: MatplotlibDeprecationWarning: \n",
      "The iterable function was deprecated in Matplotlib 3.1 and will be removed in 3.3. Use np.iterable instead.\n",
      "  if cbook.iterable(self.breaks) and cbook.iterable(self.labels):\n",
      "/Users/admin/.virtualenvs/sandbox/lib/python3.7/site-packages/plotnine/utils.py:553: MatplotlibDeprecationWarning: \n",
      "The iterable function was deprecated in Matplotlib 3.1 and will be removed in 3.3. Use np.iterable instead.\n",
      "  return cbook.iterable(var) and not is_string(var)\n",
      "/Users/admin/.virtualenvs/sandbox/lib/python3.7/site-packages/plotnine/utils.py:553: MatplotlibDeprecationWarning: \n",
      "The iterable function was deprecated in Matplotlib 3.1 and will be removed in 3.3. Use np.iterable instead.\n",
      "  return cbook.iterable(var) and not is_string(var)\n",
      "/Users/admin/.virtualenvs/sandbox/lib/python3.7/site-packages/plotnine/utils.py:553: MatplotlibDeprecationWarning: \n",
      "The iterable function was deprecated in Matplotlib 3.1 and will be removed in 3.3. Use np.iterable instead.\n",
      "  return cbook.iterable(var) and not is_string(var)\n",
      "/Users/admin/.virtualenvs/sandbox/lib/python3.7/site-packages/plotnine/utils.py:553: MatplotlibDeprecationWarning: \n",
      "The iterable function was deprecated in Matplotlib 3.1 and will be removed in 3.3. Use np.iterable instead.\n",
      "  return cbook.iterable(var) and not is_string(var)\n",
      "/Users/admin/.virtualenvs/sandbox/lib/python3.7/site-packages/plotnine/utils.py:553: MatplotlibDeprecationWarning: \n",
      "The iterable function was deprecated in Matplotlib 3.1 and will be removed in 3.3. Use np.iterable instead.\n",
      "  return cbook.iterable(var) and not is_string(var)\n",
      "/Users/admin/.virtualenvs/sandbox/lib/python3.7/site-packages/plotnine/utils.py:553: MatplotlibDeprecationWarning: \n",
      "The iterable function was deprecated in Matplotlib 3.1 and will be removed in 3.3. Use np.iterable instead.\n",
      "  return cbook.iterable(var) and not is_string(var)\n"
     ]
    },
    {
     "data": {
      "image/png": "[encoded data removed]",
      "text/plain": [
       "<Figure size 640x480 with 1 Axes>"
      ]
     },
     "metadata": {
      "needs_background": "light"
     },
     "output_type": "display_data"
    }
   ],
   "source": [
    "c1,c2 = result_trunc.loc[result_trunc.shape[0]-1,'cumu_conv_a'],result_trunc.loc[result_trunc.shape[0]-1,'cumu_conv_b']\n",
    "n1,n2 = result_trunc.loc[result_trunc.shape[0]-1,'cumu_impression_a'],result_trunc.loc[result_trunc.shape[0]-1,'cumu_impression_b']\n",
    "\n",
    "proportion_plot_b(c1,c2,n1,n2,0.05,'ratio',a,a,b,b,sim_size)"
   ]
  },
  {
   "cell_type": "markdown",
   "metadata": {},
   "source": [
    "We can also run just the test separately as well as sampling from the posteriors to get credible intervals with `proportion_test_b` and `sample_proprotion`."
   ]
  },
  {
   "cell_type": "code",
   "execution_count": 14,
   "metadata": {},
   "outputs": [
    {
     "name": "stdout",
     "output_type": "stream",
     "text": [
      "Probability that A is better than B: 0.06639\n"
     ]
    }
   ],
   "source": [
    "print(f'Probability that A is better than B: {proportion_test_b(c1,c2,n1,n2,a,a,b,b,sim_size)}')"
   ]
  },
  {
   "cell_type": "code",
   "execution_count": 15,
   "metadata": {},
   "outputs": [
    {
     "name": "stdout",
     "output_type": "stream",
     "text": [
      "Credible interval for A: [0.07930378 0.110806  ]\n",
      "Credible interval for B: [0.09541691 0.13058075]\n"
     ]
    }
   ],
   "source": [
    "ci_a = np.percentile(sample_proportion(c1,n1,a,b,sim_size), [2.5,97.5])\n",
    "ci_b = np.percentile(sample_proportion(c2,n2,a,b,sim_size), [2.5,97.5])\n",
    "print(f'Credible interval for A: {ci_a}')\n",
    "print(f'Credible interval for B: {ci_b}')"
   ]
  },
  {
   "cell_type": "markdown",
   "metadata": {},
   "source": [
    "## Multi-armed Bandits"
   ]
  },
  {
   "cell_type": "markdown",
   "metadata": {},
   "source": [
    "### Proportions"
   ]
  },
  {
   "cell_type": "markdown",
   "metadata": {},
   "source": [
    "We treat the problem of selecting the best variation as pulling the arm of the best slot machines. Here we use the simulation environment `MusketeerEnv` which returns the status of each arm in a form of the tuple `(impressions,clicks)`. The environment also keeps track of value remaining for stopping criteria."
   ]
  },
  {
   "cell_type": "code",
   "execution_count": 21,
   "metadata": {},
   "outputs": [
    {
     "data": {
      "text/plain": [
       "[(0, 0), (0, 0), (0, 0)]"
      ]
     },
     "execution_count": 21,
     "metadata": {},
     "output_type": "execute_result"
    }
   ],
   "source": [
    "from mab.env import MusketeerEnv\n",
    "from mab.agent import BanditAgent\n",
    "env = MusketeerEnv(true_ps = [0.12,0.13,0.14], avg_impressions=400)\n",
    "\n",
    "#starting scores for each arm\n",
    "env.reset()"
   ]
  },
  {
   "cell_type": "markdown",
   "metadata": {},
   "source": [
    "The agent has many policies it can run. We suggest using `thompson_stochastic` for optimal results."
   ]
  },
  {
   "cell_type": "code",
   "execution_count": 17,
   "metadata": {},
   "outputs": [
    {
     "data": {
      "text/plain": [
       "(array([0.33333333, 0.33333333, 0.33333333]),\n",
       " array([0.43460147, 0.32753096, 0.23786757]),\n",
       " array([0.08261686, 0.08261686, 0.83476628]),\n",
       " array([0.33242316, 0.3333325 , 0.33424435]),\n",
       " array([0.   , 0.052, 0.948]),\n",
       " array([0., 0., 1.]),\n",
       " array([0., 0., 1.]))"
      ]
     },
     "execution_count": 17,
     "metadata": {},
     "output_type": "execute_result"
    }
   ],
   "source": [
    "#initiate agent with priors\n",
    "a = BanditAgent(a=1,b=9)\n",
    "\n",
    "#warm up the environment with 20 episodes of equal-weight actions\n",
    "for i in range(20):\n",
    "    p = a.equal_weights(env.get_state())\n",
    "    env.step(p)\n",
    "    t=i\n",
    "\n",
    "#how agent choose arms with given priors\n",
    "a.equal_weights(env.get_state()), a.randomize(env.get_state()), a.eps_greedy(env.get_state(),t),\\\n",
    "a.softmax(env.get_state(),t), a.thompson_stochastic(env.get_state()), \\\n",
    "a.ucb(env.get_state(),t), a.thompson_deterministic(env.get_state())"
   ]
  },
  {
   "cell_type": "code",
   "execution_count": 20,
   "metadata": {},
   "outputs": [
    {
     "data": {
      "image/png": "[encoded data removed]",
      "text/plain": [
       "<Figure size 640x480 with 4 Axes>"
      ]
     },
     "metadata": {
      "needs_background": "light"
     },
     "output_type": "display_data"
    },
    {
     "data": {
      "text/plain": [
       "<ggplot: (-9223372036552654399)>"
      ]
     },
     "execution_count": 20,
     "metadata": {},
     "output_type": "execute_result"
    }
   ],
   "source": [
    "#seven environments to run with each policy\n",
    "envs = [MusketeerEnv(true_ps = [0.12,0.13,0.14], avg_impressions=400) for i in range(7)]\n",
    "a = BanditAgent(a=1,b=9)\n",
    "\n",
    "#run all environments for 200 timesteps\n",
    "for t in range(200):\n",
    "    states = [env.get_state() for env in envs]\n",
    "    actions = [a.equal_weights(states[0]), a.randomize(states[1]),\n",
    "               a.eps_greedy(states[2],t), a.softmax(states[3],t),\n",
    "               a.thompson_stochastic(states[4]),\n",
    "               a.ucb(states[5],t), a.thompson_deterministic(states[6])]\n",
    "    for i in range(7): envs[i].step(actions[i])\n",
    "        \n",
    "#record results\n",
    "dfs = [env.show_df() for env in envs]\n",
    "policies = ['equal_weights','randomize','eps_greedy','softmax','thompson_stochastic',\n",
    "            'ucb','thompson_deterministic']\n",
    "for i in range(7): dfs[i]['policy'] = policies[i]\n",
    "df = pd.concat(dfs)[['policy','t','opt_impressions_rate','regret_rate','regret','value_remaining']]\n",
    "df_m = df.melt(id_vars=['policy','t'])\n",
    "\n",
    "#plot\n",
    "g = (ggplot(df_m, aes(x='t',y='value',color='policy',group='policy')) +\n",
    "    geom_line() + theme_minimal() + facet_wrap('~variable',scales='free_y'))\n",
    "g"
   ]
  },
  {
   "cell_type": "code",
   "execution_count": null,
   "metadata": {},
   "outputs": [],
   "source": []
  }
 ],
 "metadata": {
  "kernelspec": {
   "display_name": "Python 3",
   "language": "python",
   "name": "python3"
  },
  "language_info": {
   "codemirror_mode": {
    "name": "ipython",
    "version": 3
   },
   "file_extension": ".py",
   "mimetype": "text/x-python",
   "name": "python",
   "nbconvert_exporter": "python",
   "pygments_lexer": "ipython3",
   "version": "3.7.3"
  }
 },
 "nbformat": 4,
 "nbformat_minor": 2
}
